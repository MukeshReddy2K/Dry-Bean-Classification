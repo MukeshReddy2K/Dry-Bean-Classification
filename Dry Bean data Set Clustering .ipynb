{
 "cells": [
  {
   "cell_type": "markdown",
   "id": "e381f0ec",
   "metadata": {},
   "source": [
    "# DRY BEAN DATA SET"
   ]
  },
  {
   "cell_type": "markdown",
   "id": "d07d8ad1",
   "metadata": {
    "id": "58107dbe"
   },
   "source": [
    "Attribute Information:\n",
    "- 1.Area (A): The area of a bean zone and the number of pixels within its boundaries.\n",
    "- 2.Perimeter (P): Bean circumference is defined as the length of its border.\n",
    "- 3.Major axis length (L): The distance between the ends of the longest line that can be drawn from a bean.\n",
    "- 4.Minor axis length (l): The longest line that can be drawn from the bean while standing perpendicular to the main axis.\n",
    "- 5.Aspect ratio (K): Defines the relationship between L and l.\n",
    "- 6.Eccentricity (Ec): Eccentricity of the ellipse having the same moments as the region.\n",
    "- 7.Convex area (C): Number of pixels in the smallest convex polygon that can contain the area of a bean seed.\n",
    "- 8.Equivalent diameter (Ed): The diameter of a circle having the same area as a bean seed area.\n",
    "- 9.Extent (Ex): The ratio of the pixels in the bounding box to the bean area.\n",
    "- 10.Solidity (S): Also known as convexity. The ratio of the pixels in the convex shell to those found in beans.\n",
    "- 11.Roundness (R): Calculated with the following formula: (4piA)/(P^2)\n",
    "- 12.Compactness (CO): Measures the roundness of an object: Ed/L\n",
    "- 13.ShapeFactor1 (SF1)\n",
    "- 14.ShapeFactor2 (SF2)\n",
    "- 15.ShapeFactor3 (SF3)\n",
    "- 16.ShapeFactor4 (SF4)\n",
    "- 17.Class (Seker, Barbunya, Bombay, Cali, Dermosan, Horoz and Sira)"
   ]
  },
  {
   "cell_type": "code",
   "execution_count": null,
   "id": "0005bed2",
   "metadata": {},
   "outputs": [],
   "source": [
    "#!pip install scikit-elm"
   ]
  },
  {
   "cell_type": "code",
   "execution_count": null,
   "id": "2b92aaa9",
   "metadata": {
    "id": "40d3ac7d"
   },
   "outputs": [],
   "source": [
    "#importing all necessary libraries \n",
    "import pandas as pd\n",
    "import numpy as np\n",
    "import matplotlib.pyplot as plt\n",
    "import seaborn as sns\n",
    "import plotly.express as px\n",
    "from collections import Counter\n",
    "import warnings\n",
    "warnings.filterwarnings(\"ignore\")\n",
    "from sklearn.preprocessing import MinMaxScaler\n",
    "from sklearn.cluster import KMeans\n",
    "from sklearn.metrics import silhouette_samples, silhouette_score\n",
    "from yellowbrick.cluster import SilhouetteVisualizer\n",
    "import pandas as pd\n",
    "import numpy as np\n",
    "import matplotlib.pyplot as plt\n",
    "import seaborn as sns\n",
    "from sklearn.model_selection import train_test_split\n",
    "from sklearn.neighbors import KNeighborsClassifier\n",
    "from sklearn.ensemble import RandomForestClassifier\n",
    "from sklearn.svm import SVC\n",
    "from skelm import ELMClassifier\n",
    "from sklearn.metrics import classification_report, confusion_matrix\n",
    "from sklearn.feature_selection import SelectKBest, f_classif\n",
    "from sklearn.decomposition import PCA\n",
    "from sklearn.metrics import accuracy_score\n",
    "import time\n"
   ]
  },
  {
   "cell_type": "code",
   "execution_count": null,
   "id": "617d847c",
   "metadata": {
    "id": "600380ba"
   },
   "outputs": [],
   "source": [
    "df = pd.read_csv('Dry_Bean_Data_Set.csv')"
   ]
  },
  {
   "cell_type": "code",
   "execution_count": null,
   "id": "f34301da",
   "metadata": {
    "id": "8c7d0811",
    "outputId": "77b07e62-096f-488d-ff9f-50c09b9de28b"
   },
   "outputs": [],
   "source": [
    "# print no of samples and attributes in the original dataset\n",
    "df.shape"
   ]
  },
  {
   "cell_type": "code",
   "execution_count": null,
   "id": "8ea814ee",
   "metadata": {
    "id": "f4166034",
    "outputId": "3665c895-3db8-465a-dc9b-0de9ed52578a"
   },
   "outputs": [],
   "source": [
    "df.head()"
   ]
  },
  {
   "cell_type": "code",
   "execution_count": null,
   "id": "0ec33146",
   "metadata": {
    "id": "4ae85869",
    "outputId": "bde03752-827c-43ad-daf8-7f04da34618f"
   },
   "outputs": [],
   "source": [
    "df.columns"
   ]
  },
  {
   "cell_type": "code",
   "execution_count": null,
   "id": "13116e09",
   "metadata": {
    "id": "3c3286c4",
    "outputId": "6c3d4502-871f-4655-dd01-a9a1b2f5bf53"
   },
   "outputs": [],
   "source": [
    "# check class distribution for each variety of beans\n",
    "df['Class'].value_counts()"
   ]
  },
  {
   "cell_type": "code",
   "execution_count": null,
   "id": "c1276a89",
   "metadata": {
    "id": "1965f108",
    "outputId": "f7067d83-174a-4cf1-d06f-6aaeaadc0a59"
   },
   "outputs": [],
   "source": [
    "#Different types of Beans\n",
    "labels, counts = np.unique(df.Class, return_counts=True)\n",
    "plt.figure(figsize=(8, 8))\n",
    "plt.pie(counts, autopct='%1.1f%%', labels=labels)\n",
    "plt.title('Bean proportions')\n",
    "plt.show()"
   ]
  },
  {
   "cell_type": "code",
   "execution_count": null,
   "id": "fbb1e582",
   "metadata": {
    "id": "fb6fd0e1",
    "outputId": "bba11dc1-2705-4832-ef78-5cb7d36177a5",
    "scrolled": false
   },
   "outputs": [],
   "source": [
    "df.info()"
   ]
  },
  {
   "cell_type": "code",
   "execution_count": null,
   "id": "3d18f2ea",
   "metadata": {},
   "outputs": [],
   "source": [
    "X = df.drop(\"Class\", axis=1)\n",
    "Y = df['Class']\n",
    "\n",
    "# Visualizing the correlation between the features\n",
    "corr_matrix = df.corr()\n",
    "sns.clustermap(corr_matrix, annot = True, fmt = \".2f\")\n",
    "plt.title(\"Correlation between features\")\n",
    "plt.show()"
   ]
  },
  {
   "cell_type": "code",
   "execution_count": null,
   "id": "bb6cd03b",
   "metadata": {
    "id": "8d498a4f",
    "outputId": "50e69c91-b102-42ff-aa7b-236bc496b70e"
   },
   "outputs": [],
   "source": [
    "# box plot of each attribute to find the outliers\n",
    "Num_columns = df.drop(columns=['Class']).columns\n",
    "\n",
    "fig, ax = plt.subplots(4, 4, figsize=(15, 20))\n",
    "\n",
    "for variable, subplot in zip(Num_columns, ax.flatten()):\n",
    "    sns.boxplot(y= df[variable], ax=subplot)\n",
    "plt.tight_layout()"
   ]
  },
  {
   "cell_type": "markdown",
   "id": "dc9a5abd",
   "metadata": {},
   "source": [
    "## Data Pre-processing\n",
    "### Data Cleaning:\n",
    "### 1. Check for missing/null values"
   ]
  },
  {
   "cell_type": "code",
   "execution_count": null,
   "id": "fc6f5767",
   "metadata": {
    "id": "af30c385",
    "outputId": "24e6a2c6-77be-4c3e-807e-d7fba62d20e4"
   },
   "outputs": [],
   "source": [
    "df.isnull().sum()"
   ]
  },
  {
   "cell_type": "markdown",
   "id": "a3061c1e",
   "metadata": {
    "id": "l4jSTjj9boet"
   },
   "source": [
    "**from the above result we can state dataset do not have any missing values**"
   ]
  },
  {
   "cell_type": "code",
   "execution_count": null,
   "id": "126511a5",
   "metadata": {
    "id": "553ef974",
    "outputId": "4a52e596-e8b9-4e40-c31f-e2fe591a62a3"
   },
   "outputs": [],
   "source": [
    "df.describe(percentiles=[0.15,0.25,0.50,0.75,0.90]).T"
   ]
  },
  {
   "cell_type": "code",
   "execution_count": null,
   "id": "82258ca2",
   "metadata": {},
   "outputs": [],
   "source": [
    "df.corr()"
   ]
  },
  {
   "cell_type": "code",
   "execution_count": null,
   "id": "c90613ff",
   "metadata": {},
   "outputs": [],
   "source": [
    "# For further understanding the Data use Histograms\n",
    "# These Histograms gives a better visualization of Data Distribution.\n",
    "\n",
    "df.hist(bins=30, figsize=(15,15))\n",
    "plt.show()"
   ]
  },
  {
   "cell_type": "markdown",
   "id": "9c63e290",
   "metadata": {},
   "source": [
    "### 2. removing outliers based on IQR method (values beyond 3 standard deviations are considered to be outliers/noise)"
   ]
  },
  {
   "cell_type": "code",
   "execution_count": null,
   "id": "909e72e2",
   "metadata": {
    "id": "74da2ad5",
    "outputId": "a1a14925-ce1f-4898-cfb0-3f9653581d41"
   },
   "outputs": [],
   "source": [
    "features = ['Area', 'Perimeter', 'MajorAxisLength',\n",
    "            'MinorAxisLength', 'AspectRation', 'Eccentricity',\n",
    "            'ConvexArea', 'EquivDiameter', 'Extent', 'Solidity',\n",
    "            'roundness', 'Compactness', 'ShapeFactor1',\n",
    "            'ShapeFactor2', 'ShapeFactor3', 'ShapeFactor4']\n",
    "\n",
    "Outlier_indices = []\n",
    "\n",
    "for b in features:\n",
    "    Q1 = np.percentile(df[b], 25)\n",
    "    Q3 = np.percentile(df[b], 75)\n",
    "    Inter_quartile_range = Q3 - Q1\n",
    "    Outlier = Inter_quartile_range * 1.5\n",
    "    Outlier_list = df[(df[b] < Q1 - Outlier) | (df[b] > Q3 + Outlier)].index\n",
    "    Outlier_indices.extend(Outlier_list)\n",
    "\n",
    "Outlier_indices = Counter(Outlier_indices)\n",
    "Multiple_Outliers = list(i for i, v in Outlier_indices.items() if v>1)\n",
    "    \n",
    "#print(Multiple_Outliers)\n",
    "df_update = df.drop(Multiple_Outliers,axis=0).reset_index(drop=True)\n",
    "df_update"
   ]
  },
  {
   "cell_type": "code",
   "execution_count": null,
   "id": "d66cb46b",
   "metadata": {
    "id": "4f2074b1",
    "outputId": "1e0a93c0-e317-456a-879e-17463ed5f54f"
   },
   "outputs": [],
   "source": [
    "print('No: of samples before removing outliers: ', df.shape[0])\n",
    "print('No: of samples after removing outliers:  ', df_update.shape[0])"
   ]
  },
  {
   "cell_type": "code",
   "execution_count": null,
   "id": "f2cb6e27",
   "metadata": {
    "id": "b244e997",
    "outputId": "797f4cdc-694a-462d-debd-2fb2fec6e082"
   },
   "outputs": [],
   "source": [
    "df_update.describe()"
   ]
  },
  {
   "cell_type": "code",
   "execution_count": null,
   "id": "7a119619",
   "metadata": {
    "id": "30d4467e",
    "outputId": "f93925f8-be19-45c0-aca0-bb6acc35e875"
   },
   "outputs": [],
   "source": [
    "Num_columns = df_update.drop(columns=['Class']).columns\n",
    "fig, ax = plt.subplots(4, 4, figsize=(15, 20))\n",
    "\n",
    "for variable, subplot in zip(Num_columns, ax.flatten()):\n",
    "    sns.boxplot(y= df[variable], ax=subplot)\n",
    "plt.tight_layout()"
   ]
  },
  {
   "cell_type": "markdown",
   "id": "23e85dd2",
   "metadata": {},
   "source": [
    "### 3. Drop duplicated data"
   ]
  },
  {
   "cell_type": "code",
   "execution_count": null,
   "id": "b0130988",
   "metadata": {
    "id": "3865030b",
    "outputId": "5a4785f4-c4b9-4da4-e1d3-38ab2bcc3841"
   },
   "outputs": [],
   "source": [
    "df_update.duplicated(subset=None, keep='first').sum()"
   ]
  },
  {
   "cell_type": "code",
   "execution_count": null,
   "id": "3e70851e",
   "metadata": {
    "id": "3f33ab90",
    "outputId": "4a8075fd-e088-4e19-d5a7-bb36bfb2dbb7"
   },
   "outputs": [],
   "source": [
    "df_clean=df_update.drop_duplicates( keep='last')\n",
    "df_clean"
   ]
  },
  {
   "cell_type": "code",
   "execution_count": null,
   "id": "4baad302",
   "metadata": {
    "id": "485da576"
   },
   "outputs": [],
   "source": [
    "# export cleaned dataset to csv\n",
    "df_clean.to_csv('Dry Bean cleaned.csv')"
   ]
  },
  {
   "cell_type": "markdown",
   "id": "945f043e",
   "metadata": {},
   "source": [
    "## Exploratory Analysis"
   ]
  },
  {
   "cell_type": "code",
   "execution_count": null,
   "id": "b5af2c76",
   "metadata": {},
   "outputs": [],
   "source": [
    "#Visualisation of variables-Scatterplot including Class labels\n",
    "\n",
    "sns.set_theme(style=\"darkgrid\")\n",
    "sns.pairplot(df_clean, hue=\"Class\")"
   ]
  },
  {
   "cell_type": "code",
   "execution_count": null,
   "id": "d4cda5f7",
   "metadata": {},
   "outputs": [],
   "source": []
  },
  {
   "cell_type": "markdown",
   "id": "4778633d",
   "metadata": {},
   "source": [
    "## Dimensionality reduction and Feature Selection"
   ]
  },
  {
   "cell_type": "code",
   "execution_count": null,
   "id": "4dcf3559",
   "metadata": {},
   "outputs": [],
   "source": [
    "X = df_clean.drop(\"Class\",axis = 1)\n",
    "y = df_clean[\"Class\"]"
   ]
  },
  {
   "cell_type": "code",
   "execution_count": null,
   "id": "6d0e516f",
   "metadata": {},
   "outputs": [],
   "source": [
    "from sklearn.preprocessing import StandardScaler\n",
    "sc = StandardScaler()\n",
    "X = sc.fit_transform(X)"
   ]
  },
  {
   "cell_type": "code",
   "execution_count": null,
   "id": "0905da38",
   "metadata": {},
   "outputs": [],
   "source": [
    "from sklearn.decomposition import PCA\n",
    "pca = PCA()  \n",
    "x = pca.fit_transform(X)\n",
    "per_var = np.round(pca.explained_variance_ratio_*100, 1)    \n",
    "print(per_var)"
   ]
  },
  {
   "cell_type": "code",
   "execution_count": null,
   "id": "036039d6",
   "metadata": {},
   "outputs": [],
   "source": [
    "plt.figure(figsize = (20,10))\n",
    "princ_comp = [\"PC\" + str(x) for x in range(1, 17)]\n",
    "plt.bar(x = range(1, 17), height = per_var, tick_label = princ_comp)\n",
    "plt.xlabel(\"Principal Component\", fontsize = 15)\n",
    "plt.ylabel(\"Percentage of Variation\", fontsize = 15)\n",
    "plt.title(\"Scree Plot\", fontsize = 15)\n",
    "plt.grid();"
   ]
  },
  {
   "cell_type": "markdown",
   "id": "42ab9d1f",
   "metadata": {},
   "source": [
    "- PC1, PC2, PC3, PC4 accounts to 95.2%"
   ]
  },
  {
   "cell_type": "code",
   "execution_count": null,
   "id": "7bfcf526",
   "metadata": {},
   "outputs": [],
   "source": [
    "import plotly.express as px\n",
    "plt.figure(figsize = (40,40))\n",
    "\n",
    "pca_all_data = PCA(n_components=4,random_state=0)\n",
    "pca_all_data.fit(X)\n",
    "pca_trans = pca_all_data.transform(X)\n",
    "labels = {\n",
    "    str(i): f\"PC {i+1} ({var:.2f}%)\"\n",
    "    for i, var in enumerate(pca_all_data.explained_variance_ratio_ * 100)}\n",
    "\n",
    "fig = px.scatter_matrix( pca_trans, labels=labels, dimensions=range(4), color = y)\n",
    "fig.update_traces(diagonal_visible=True)\n",
    "fig.show()"
   ]
  },
  {
   "cell_type": "code",
   "execution_count": null,
   "id": "c3b7abd4",
   "metadata": {},
   "outputs": [],
   "source": [
    "pca_dataset = pd.DataFrame(x, columns = princ_comp)\n",
    "z = pca_dataset.iloc[:, 0:2].values"
   ]
  },
  {
   "cell_type": "code",
   "execution_count": null,
   "id": "db742486",
   "metadata": {},
   "outputs": [],
   "source": [
    "from matplotlib.colors import ListedColormap\n",
    "plt.figure(figsize = (12,8))\n",
    "X_set, y_set = z, y\n",
    "X1, X2 = np.meshgrid(np.arange(start = X_set[:, 0].min() - 1, stop = X_set[:, 0].max() + 1, step = 0.01),\n",
    "                     np.arange(start = X_set[:, 1].min() - 1, stop = X_set[:, 1].max() + 1, step = 0.01))\n",
    "\n",
    "plt.xlim(X1.min(), X1.max())\n",
    "plt.ylim(X2.min(), X2.max())\n",
    "for i, j in enumerate(np.unique(y_set)):\n",
    "    plt.scatter(X_set[y_set == j, 0], X_set[y_set == j, 1],\n",
    "                c = ListedColormap(('red', 'green', 'blue','cyan','purple','olive'))(i), label = j)\n",
    "plt.title(\"Two-component PCA\", fontsize = 22)\n",
    "plt.xlabel('PC1')\n",
    "plt.ylabel('PC2')\n",
    "plt.legend()\n",
    "plt.show()"
   ]
  },
  {
   "cell_type": "code",
   "execution_count": null,
   "id": "9a4fd164",
   "metadata": {},
   "outputs": [],
   "source": []
  },
  {
   "cell_type": "code",
   "execution_count": null,
   "id": "97ef7bdb",
   "metadata": {},
   "outputs": [],
   "source": [
    "X = df_clean.drop(\"Class\",axis = 1)\n",
    "y = df_clean[\"Class\"]\n",
    "#normalizer = preprocessing.StandardScaler()\n",
    "#norm_X = normalizer.fit_transform(X)\n",
    "#X_train, X_test, y_train, y_test = train_test_split(X, y, test_size=0.2, random_state=42)"
   ]
  },
  {
   "cell_type": "code",
   "execution_count": null,
   "id": "d16e8a40",
   "metadata": {},
   "outputs": [],
   "source": [
    "lab_enc = preprocessing.LabelEncoder()\n",
    "label_Y = lab_enc.fit_transform(Y)\n",
    "lb = preprocessing.LabelBinarizer()\n",
    "label_train = lb.fit_transform(Y)\n"
   ]
  },
  {
   "cell_type": "markdown",
   "id": "4c500286",
   "metadata": {},
   "source": [
    "### Variable Selection using bidirectional elimination wrapper method"
   ]
  },
  {
   "cell_type": "code",
   "execution_count": null,
   "id": "a4c9c17e",
   "metadata": {},
   "outputs": [],
   "source": [
    "import joblib\n",
    "import sys\n",
    "sys.modules['sklearn.externals.joblib'] = joblib\n",
    "from mlxtend.feature_selection import SequentialFeatureSelector as SFS\n",
    "from sklearn.linear_model import LogisticRegression"
   ]
  },
  {
   "cell_type": "code",
   "execution_count": null,
   "id": "a4722a8f",
   "metadata": {},
   "outputs": [],
   "source": [
    "Y = y.values\n",
    "X1 = X.values"
   ]
  },
  {
   "cell_type": "code",
   "execution_count": null,
   "id": "16aba7d0",
   "metadata": {},
   "outputs": [],
   "source": [
    "%%time\n",
    "sffs = SFS(LogisticRegression(multi_class='ovr'),\n",
    "         k_features=(6,12),\n",
    "         forward=True,\n",
    "         floating=True,\n",
    "         scoring='accuracy',\n",
    "         cv=5)\n",
    "sffs.fit(X1, Y)\n",
    "sffs.k_feature_names_"
   ]
  },
  {
   "cell_type": "code",
   "execution_count": null,
   "id": "ad3d62a3",
   "metadata": {},
   "outputs": [],
   "source": [
    "feat = list(df.columns)\n",
    "indices = [int(i)  for i in sffs.k_feature_names_]\n",
    "selected_feat = [feat[i] for i in indices]"
   ]
  },
  {
   "cell_type": "code",
   "execution_count": null,
   "id": "1fbb4c87",
   "metadata": {},
   "outputs": [],
   "source": [
    "selected_feat"
   ]
  },
  {
   "cell_type": "code",
   "execution_count": null,
   "id": "6d2d6791",
   "metadata": {},
   "outputs": [],
   "source": [
    "X = df_clean[['Perimeter',\n",
    " 'MajorAxisLength',\n",
    " 'MinorAxisLength',\n",
    " 'AspectRation',\n",
    " 'EquivDiameter',\n",
    " 'Extent',\n",
    " 'ShapeFactor1']]\n",
    "X"
   ]
  },
  {
   "cell_type": "markdown",
   "id": "01d55a50",
   "metadata": {},
   "source": [
    "### Performing PCA on the Selected features"
   ]
  },
  {
   "cell_type": "code",
   "execution_count": null,
   "id": "2ed5aafa",
   "metadata": {},
   "outputs": [],
   "source": [
    "from sklearn.preprocessing import StandardScaler\n",
    "sc = StandardScaler()\n",
    "X = sc.fit_transform(X)"
   ]
  },
  {
   "cell_type": "code",
   "execution_count": null,
   "id": "2504361b",
   "metadata": {},
   "outputs": [],
   "source": [
    "pca = PCA()  \n",
    "x = pca.fit_transform(X)\n",
    "per_var = np.round(pca.explained_variance_ratio_*100, 1)    \n",
    "print(per_var)"
   ]
  },
  {
   "cell_type": "code",
   "execution_count": null,
   "id": "ff6b6080",
   "metadata": {},
   "outputs": [],
   "source": [
    "plt.figure(figsize = (20,10))\n",
    "princ_comp = [\"PC\" + str(x) for x in range(1, 8)]\n",
    "plt.bar(x = range(1, 8), height = per_var, tick_label = princ_comp)\n",
    "plt.xlabel(\"Principal Component\", fontsize = 15)\n",
    "plt.ylabel(\"Percentage of Variation\", fontsize = 15)\n",
    "plt.title(\"Scree Plot\", fontsize = 15)\n",
    "plt.grid();"
   ]
  },
  {
   "cell_type": "markdown",
   "id": "80373478",
   "metadata": {},
   "source": [
    "- PC1, PC2, PC3 accounts to 99.4%"
   ]
  },
  {
   "cell_type": "code",
   "execution_count": null,
   "id": "9967abea",
   "metadata": {},
   "outputs": [],
   "source": [
    "import plotly.express as px\n",
    "plt.figure(figsize = (40,40))\n",
    "\n",
    "pca_all_data = PCA(n_components=3,random_state=0)\n",
    "pca_all_data.fit(X)\n",
    "pca_trans = pca_all_data.transform(X)\n",
    "labels = {\n",
    "    str(i): f\"PC {i+1} ({var:.2f}%)\"\n",
    "    for i, var in enumerate(pca_all_data.explained_variance_ratio_ * 100)}\n",
    "\n",
    "fig = px.scatter_matrix( pca_trans, labels=labels, dimensions=range(3), color = y)\n",
    "fig.update_traces(diagonal_visible=True)\n",
    "fig.show()"
   ]
  },
  {
   "cell_type": "code",
   "execution_count": null,
   "id": "cd9c2c1d",
   "metadata": {},
   "outputs": [],
   "source": [
    "pca_dataset = pd.DataFrame(x, columns = princ_comp)\n",
    "z = pca_dataset.iloc[:, 0:2].values"
   ]
  },
  {
   "cell_type": "code",
   "execution_count": null,
   "id": "d7c7a0cd",
   "metadata": {},
   "outputs": [],
   "source": [
    "from matplotlib.colors import ListedColormap\n",
    "plt.figure(figsize = (12,8))\n",
    "X_set, y_set = z, y\n",
    "X1, X2 = np.meshgrid(np.arange(start = X_set[:, 0].min() - 1, stop = X_set[:, 0].max() + 1, step = 0.01),\n",
    "                     np.arange(start = X_set[:, 1].min() - 1, stop = X_set[:, 1].max() + 1, step = 0.01))\n",
    "\n",
    "plt.xlim(X1.min(), X1.max())\n",
    "plt.ylim(X2.min(), X2.max())\n",
    "for i, j in enumerate(np.unique(y_set)):\n",
    "    plt.scatter(X_set[y_set == j, 0], X_set[y_set == j, 1],\n",
    "                c = ListedColormap(('red', 'green', 'blue','cyan','purple','olive'))(i), label = j)\n",
    "plt.title(\"Two-component PCA\", fontsize = 22)\n",
    "plt.xlabel('PC1')\n",
    "plt.ylabel('PC2')\n",
    "plt.legend()\n",
    "plt.show()"
   ]
  },
  {
   "cell_type": "code",
   "execution_count": null,
   "id": "7789681e",
   "metadata": {},
   "outputs": [],
   "source": []
  },
  {
   "cell_type": "code",
   "execution_count": null,
   "id": "b49a2b9d",
   "metadata": {},
   "outputs": [],
   "source": []
  },
  {
   "cell_type": "markdown",
   "id": "018dcee5",
   "metadata": {},
   "source": [
    "### Performing Models"
   ]
  },
  {
   "cell_type": "code",
   "execution_count": null,
   "id": "94ffc614",
   "metadata": {},
   "outputs": [],
   "source": [
    "#Entire data\n",
    "X = df_clean.drop(\"Class\",axis = 1)\n",
    "y = df_clean[\"Class\"]\n",
    "X_train, X_test, y_train, y_test = train_test_split(X, y, test_size = 0.25, random_state = 0)"
   ]
  },
  {
   "cell_type": "code",
   "execution_count": null,
   "id": "f099a5e1",
   "metadata": {},
   "outputs": [],
   "source": [
    "#Feature Scaling\n",
    "from sklearn.preprocessing import StandardScaler\n",
    "sc = StandardScaler()\n",
    "X_train = sc.fit_transform(X_train)\n",
    "X_test = sc.transform(X_test)"
   ]
  },
  {
   "cell_type": "code",
   "execution_count": null,
   "id": "e9659f86",
   "metadata": {},
   "outputs": [],
   "source": [
    "#selected features data\n",
    "X1 = df_clean[['Perimeter',\n",
    " 'MajorAxisLength',\n",
    " 'MinorAxisLength',\n",
    " 'AspectRation',\n",
    " 'EquivDiameter',\n",
    " 'Extent',\n",
    " 'ShapeFactor1']]\n",
    "y = df_clean[\"Class\"]\n",
    "X1_train, X1_test, y_train, y_test = train_test_split(X1, y, test_size = 0.25, random_state = 0)\n"
   ]
  },
  {
   "cell_type": "code",
   "execution_count": null,
   "id": "5606d7d5",
   "metadata": {},
   "outputs": [],
   "source": [
    "sc = StandardScaler()\n",
    "X1_train = sc.fit_transform(X1_train)\n",
    "X1_test = sc.transform(X1_test)"
   ]
  },
  {
   "cell_type": "markdown",
   "id": "b9bd8d34",
   "metadata": {},
   "source": [
    "### SVC - Entire Features"
   ]
  },
  {
   "cell_type": "markdown",
   "id": "ce36616b",
   "metadata": {},
   "source": [
    "### Getting the best hyper parameters using grid sreach cross validation"
   ]
  },
  {
   "cell_type": "code",
   "execution_count": null,
   "id": "d3ee85df",
   "metadata": {},
   "outputs": [],
   "source": [
    "%%time\n",
    "from sklearn.svm import SVC\n",
    "from sklearn.model_selection import GridSearchCV\n",
    "  \n",
    "# defining parameter range\n",
    "param_grid = {'C': [0.01, 0.1, 1, 10, 100], \n",
    "              'gamma': [1, 0.1, 0.01, 0.001, 0.0001],\n",
    "              'kernel': ['linear','poly','rbf','sigmoid']} \n",
    "\n",
    "grid = GridSearchCV(SVC(), param_grid, verbose = 3)\n",
    "  \n",
    "# fitting the model for grid search\n",
    "grid.fit(X_train, y_train)"
   ]
  },
  {
   "cell_type": "code",
   "execution_count": null,
   "id": "11b05601",
   "metadata": {},
   "outputs": [],
   "source": [
    "# print best parameter after tuning\n",
    "print('Best Parameters: ', grid.best_params_)\n",
    "print('Best Score: ',grid.best_score_)"
   ]
  },
  {
   "cell_type": "code",
   "execution_count": null,
   "id": "6c665216",
   "metadata": {},
   "outputs": [],
   "source": [
    "final_svm = SVC(kernel = grid.best_params_['kernel'], gamma = grid.best_params_['gamma'], C = grid.best_params_['C'])\n",
    "final_svm.fit(X_train, y_train)"
   ]
  },
  {
   "cell_type": "code",
   "execution_count": null,
   "id": "015a7c9d",
   "metadata": {},
   "outputs": [],
   "source": [
    "y_pred = final_svm.predict(X_test)\n",
    "print(\"Accuracy Score: \", accuracy_score(y_test, y_pred))\n",
    "print(\"Classification Report: \")\n",
    "print(classification_report(y_test, y_pred))"
   ]
  },
  {
   "cell_type": "code",
   "execution_count": null,
   "id": "e8cc7547",
   "metadata": {},
   "outputs": [],
   "source": [
    "#confusion matrix\n",
    "from sklearn.metrics import confusion_matrix, accuracy_score\n",
    "cm = confusion_matrix(y_test, y_pred)\n",
    "print(cm)"
   ]
  },
  {
   "cell_type": "code",
   "execution_count": null,
   "id": "010240b8",
   "metadata": {},
   "outputs": [],
   "source": [
    "#Confusion matrix heat map\n",
    "import seaborn as sns\n",
    "plt.figure(figsize = (8,6))\n",
    "sns.heatmap(cm, annot=True, cmap='Spectral')\n",
    "plt.xlabel('Predicted', fontsize=15)\n",
    "plt.ylabel('Actual', fontsize=15)\n",
    "plt.show()"
   ]
  },
  {
   "cell_type": "markdown",
   "id": "fa50a948",
   "metadata": {},
   "source": [
    "### SVC - Selected features"
   ]
  },
  {
   "cell_type": "code",
   "execution_count": null,
   "id": "87985b64",
   "metadata": {},
   "outputs": [],
   "source": [
    "final_svm = SVC(kernel = grid.best_params_['kernel'], gamma = grid.best_params_['gamma'], C = grid.best_params_['C'])\n",
    "final_svm.fit(X1_train, y_train)"
   ]
  },
  {
   "cell_type": "code",
   "execution_count": null,
   "id": "70c45e6b",
   "metadata": {},
   "outputs": [],
   "source": [
    "y_pred = final_svm.predict(X1_test)\n",
    "print(\"Accuracy Score: \", accuracy_score(y_test, y_pred))\n",
    "print(\"Classification Report: \")\n",
    "print(classification_report(y_test, y_pred))"
   ]
  },
  {
   "cell_type": "code",
   "execution_count": null,
   "id": "c6078b4a",
   "metadata": {},
   "outputs": [],
   "source": [
    "#confusion matrix\n",
    "from sklearn.metrics import confusion_matrix, accuracy_score\n",
    "cm = confusion_matrix(y_test, y_pred)\n",
    "print(cm)"
   ]
  },
  {
   "cell_type": "code",
   "execution_count": null,
   "id": "8ffe9938",
   "metadata": {},
   "outputs": [],
   "source": [
    "#Confusion matrix heat map\n",
    "import seaborn as sns\n",
    "plt.figure(figsize = (8,6))\n",
    "sns.heatmap(cm, annot=True, cmap='Spectral')\n",
    "plt.xlabel('Predicted', fontsize=15)\n",
    "plt.ylabel('Actual', fontsize=15)\n",
    "plt.show()"
   ]
  },
  {
   "cell_type": "markdown",
   "id": "6dae7a32",
   "metadata": {},
   "source": [
    "### KNN - Entire Data"
   ]
  },
  {
   "cell_type": "code",
   "execution_count": null,
   "id": "df5c3def",
   "metadata": {},
   "outputs": [],
   "source": [
    "gs = GridSearchCV(estimator = KNeighborsClassifier(),\n",
    "                  param_grid = {\"n_neighbors\": range(1,100),\n",
    "                                \"weights\": ['uniform', 'distance'],\n",
    "                                \"p\": [1,2]}, cv=5)\n",
    "gs.fit(X_train, y_train)"
   ]
  },
  {
   "cell_type": "code",
   "execution_count": null,
   "id": "4cdd7457",
   "metadata": {},
   "outputs": [],
   "source": [
    "# print best parameter after tuning\n",
    "print('Best Parameters: ', gs.best_params_)\n",
    "print('Best Score: ',gs.best_score_)"
   ]
  },
  {
   "cell_type": "code",
   "execution_count": null,
   "id": "a7215b22",
   "metadata": {},
   "outputs": [],
   "source": [
    "best_knn = KNeighborsClassifier(n_neighbors = gs.best_params_['n_neighbors'], \n",
    "                                p = gs.best_params_['p'], \n",
    "                                weights = gs.best_params_['weights'])\n",
    "best_knn.fit(X_train,y_train)"
   ]
  },
  {
   "cell_type": "code",
   "execution_count": null,
   "id": "33866ef4",
   "metadata": {},
   "outputs": [],
   "source": [
    "#best knn model on the testing dataset\n",
    "y_pred_test = best_knn.predict(X_test)\n",
    "KNN_Accuracy_1 = accuracy_score(y_test, y_pred_test)\n",
    "print(KNN_Accuracy_1)"
   ]
  },
  {
   "cell_type": "code",
   "execution_count": null,
   "id": "6bb390c4",
   "metadata": {},
   "outputs": [],
   "source": [
    "print(classification_report(y_test,y_pred_test))"
   ]
  },
  {
   "cell_type": "code",
   "execution_count": null,
   "id": "ea8409ab",
   "metadata": {},
   "outputs": [],
   "source": [
    "#Confusion Matrix\n",
    "from sklearn.metrics import confusion_matrix\n",
    "cm = confusion_matrix(y_test, y_pred_test)\n",
    "cm"
   ]
  },
  {
   "cell_type": "code",
   "execution_count": null,
   "id": "25c97f5f",
   "metadata": {},
   "outputs": [],
   "source": [
    "#Confusion matrix heat map\n",
    "plt.figure(figsize = (8,6))\n",
    "sns.heatmap(cm, annot=True, cmap='Spectral')\n",
    "plt.xlabel('Predicted', fontsize=15)\n",
    "plt.ylabel('Actual', fontsize=15)\n",
    "plt.show()"
   ]
  },
  {
   "cell_type": "markdown",
   "id": "4d009599",
   "metadata": {},
   "source": [
    "### KNN - Selected Features"
   ]
  },
  {
   "cell_type": "code",
   "execution_count": null,
   "id": "d95f32f6",
   "metadata": {},
   "outputs": [],
   "source": [
    "best_knn = KNeighborsClassifier(n_neighbors = gs.best_params_['n_neighbors'], \n",
    "                                p = gs.best_params_['p'], \n",
    "                                weights = gs.best_params_['weights'])\n",
    "\n",
    "best_knn.fit(X1_train,y_train)"
   ]
  },
  {
   "cell_type": "code",
   "execution_count": null,
   "id": "fad7c05f",
   "metadata": {},
   "outputs": [],
   "source": [
    "#best knn model on the testing dataset\n",
    "y_pred_test = best_knn.predict(X1_test)\n",
    "KNN_Accuracy_2 = accuracy_score(y_test, y_pred_test)\n",
    "print(KNN_Accuracy_2)"
   ]
  },
  {
   "cell_type": "code",
   "execution_count": null,
   "id": "8f0baeac",
   "metadata": {},
   "outputs": [],
   "source": [
    "print(classification_report(y_test,y_pred_test))"
   ]
  },
  {
   "cell_type": "code",
   "execution_count": null,
   "id": "1b1f9003",
   "metadata": {},
   "outputs": [],
   "source": [
    "#Confusion Matrix\n",
    "from sklearn.metrics import confusion_matrix\n",
    "cm = confusion_matrix(y_test, y_pred_test)\n",
    "cm"
   ]
  },
  {
   "cell_type": "code",
   "execution_count": null,
   "id": "f89375b0",
   "metadata": {},
   "outputs": [],
   "source": [
    "#Confusion matrix heat map\n",
    "plt.figure(figsize = (8,6))\n",
    "sns.heatmap(cm, annot=True, cmap='Spectral')\n",
    "plt.xlabel('Predicted', fontsize=15)\n",
    "plt.ylabel('Actual', fontsize=15)\n",
    "plt.show()"
   ]
  },
  {
   "cell_type": "markdown",
   "id": "7fd34172",
   "metadata": {},
   "source": [
    "### Random Forest - Entire Features\n"
   ]
  },
  {
   "cell_type": "code",
   "execution_count": null,
   "id": "d09ab07b",
   "metadata": {},
   "outputs": [],
   "source": [
    "%%time\n",
    "gs = GridSearchCV(RandomForestClassifier(),\n",
    "                  param_grid = {\n",
    "                      'n_estimators': [10, 100, 200, 400, 500],\n",
    "                      'max_depth': [5, 10, 15, 20, 25],\n",
    "                      'min_samples_split': [2, 5, 7, 10, 15],\n",
    "                      'min_samples_leaf': [2, 5, 7, 10, 15],\n",
    "                      'max_features': ['auto', 'sqrt']\n",
    "                  },\n",
    "                  cv = 5, scoring = 'accuracy')\n",
    "gs.fit(X_train, y_train)"
   ]
  },
  {
   "cell_type": "code",
   "execution_count": null,
   "id": "8a73dfc7",
   "metadata": {},
   "outputs": [],
   "source": [
    "# print best parameter after tuning\n",
    "print('Best Parameters: ', gs.best_params_)\n",
    "print('Best Score: ',gs.best_score_)"
   ]
  },
  {
   "cell_type": "code",
   "execution_count": null,
   "id": "350ba1fc",
   "metadata": {},
   "outputs": [],
   "source": [
    "best_RF = RandomForestClassifier(n_estimators = gs.best_params_['n_estimators'], \n",
    "                                max_depth = gs.best_params_['max_depth'], \n",
    "                                min_samples_split = gs.best_params_['min_samples_split'],\n",
    "                                min_samples_leaf = gs.best_params_['min_samples_leaf'],\n",
    "                                max_features = gs.best_params_['max_features'],\n",
    "                                )\n",
    "best_RF.fit(X_train,y_train)"
   ]
  },
  {
   "cell_type": "code",
   "execution_count": null,
   "id": "f72ba44d",
   "metadata": {},
   "outputs": [],
   "source": [
    "#best RF model on the testing dataset\n",
    "y_pred_test = best_RF.predict(X_test)\n",
    "RF_Accuracy_1 = accuracy_score(y_test, y_pred_test)\n",
    "print(RF_Accuracy_1)"
   ]
  },
  {
   "cell_type": "code",
   "execution_count": null,
   "id": "d5e4a617",
   "metadata": {},
   "outputs": [],
   "source": [
    "print(classification_report(y_test,y_pred_test))"
   ]
  },
  {
   "cell_type": "code",
   "execution_count": null,
   "id": "4c649f51",
   "metadata": {},
   "outputs": [],
   "source": [
    "#Confusion Matrix\n",
    "from sklearn.metrics import confusion_matrix\n",
    "cm = confusion_matrix(y_test, y_pred_test)\n",
    "cm"
   ]
  },
  {
   "cell_type": "code",
   "execution_count": null,
   "id": "932c8c76",
   "metadata": {},
   "outputs": [],
   "source": [
    "#Confusion matrix heat map\n",
    "plt.figure(figsize = (8,6))\n",
    "sns.heatmap(cm, annot=True, cmap='Spectral')\n",
    "plt.xlabel('Predicted', fontsize=15)\n",
    "plt.ylabel('Actual', fontsize=15)\n",
    "plt.show()"
   ]
  },
  {
   "cell_type": "markdown",
   "id": "7d3e3fd8",
   "metadata": {},
   "source": [
    "### Random Forest - Selected Features\n"
   ]
  },
  {
   "cell_type": "code",
   "execution_count": null,
   "id": "a17e9519",
   "metadata": {},
   "outputs": [],
   "source": [
    "best_RF.fit(X1_train,y_train)"
   ]
  },
  {
   "cell_type": "code",
   "execution_count": null,
   "id": "81f1f4e5",
   "metadata": {},
   "outputs": [],
   "source": [
    "#best RF model on the testing dataset\n",
    "y_pred_test = best_RF.predict(X1_test)\n",
    "RF_Accuracy_2 = accuracy_score(y_test, y_pred_test)\n",
    "print(RF_Accuracy_2)"
   ]
  },
  {
   "cell_type": "code",
   "execution_count": null,
   "id": "c9f0c0ca",
   "metadata": {},
   "outputs": [],
   "source": [
    "print(classification_report(y_test,y_pred_test))"
   ]
  },
  {
   "cell_type": "code",
   "execution_count": null,
   "id": "09206e37",
   "metadata": {},
   "outputs": [],
   "source": [
    "#Confusion Matrix\n",
    "from sklearn.metrics import confusion_matrix\n",
    "cm = confusion_matrix(y_test, y_pred_test)\n",
    "cm"
   ]
  },
  {
   "cell_type": "code",
   "execution_count": null,
   "id": "7c58158c",
   "metadata": {},
   "outputs": [],
   "source": [
    "#Confusion matrix heat map\n",
    "plt.figure(figsize = (8,6))\n",
    "sns.heatmap(cm, annot=True, cmap='Spectral')\n",
    "plt.xlabel('Predicted', fontsize=15)\n",
    "plt.ylabel('Actual', fontsize=15)\n",
    "plt.show()"
   ]
  },
  {
   "cell_type": "code",
   "execution_count": null,
   "id": "377ee9ba",
   "metadata": {},
   "outputs": [],
   "source": [
    "import matplotlib.pyplot as plt\n",
    "\n",
    "#Entire Features Accuracy \n",
    "EFA = [92.10, 89.70, 91.38]\n",
    "#Selected Features Accuracy \n",
    "SFA = [92.10, 89.70, 91.18]\n",
    "\n",
    "fig, ax = plt.subplots(figsize=(12,8))\n",
    "width = 0.35 \n",
    "\n",
    "ax.bar(range(len(EFA)), EFA, width, label='Entire Features Accuracy')\n",
    "ax.bar([i + width for i in range(len(SFA))], SFA, width, label='Selected Features Accuracy')\n",
    "\n",
    "# set the axis labels and title\n",
    "ax.set_xlabel('X Axis')\n",
    "ax.set_ylabel('Values')\n",
    "ax.set_title('Bar plot of two data sets')\n",
    "ax.set_xticks([i + width / 2 for i in range(len(EFA))])\n",
    "ax.set_xticklabels(['SVC', 'KNN', 'RF'])\n",
    "ax.legend()\n",
    "plt.show()\n"
   ]
  },
  {
   "cell_type": "markdown",
   "id": "799b11bb",
   "metadata": {},
   "source": [
    "- Accuracy before and after feature selection is almost same but we are reducing the computational cost and training time with less number of features"
   ]
  }
 ],
 "metadata": {
  "colab": {
   "provenance": []
  },
  "kernelspec": {
   "display_name": "Python 3 (ipykernel)",
   "language": "python",
   "name": "python3"
  },
  "language_info": {
   "codemirror_mode": {
    "name": "ipython",
    "version": 3
   },
   "file_extension": ".py",
   "mimetype": "text/x-python",
   "name": "python",
   "nbconvert_exporter": "python",
   "pygments_lexer": "ipython3",
   "version": "3.11.4"
  }
 },
 "nbformat": 4,
 "nbformat_minor": 5
}
